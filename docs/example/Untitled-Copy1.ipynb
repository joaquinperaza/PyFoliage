{
 "cells": [
  {
   "cell_type": "code",
   "execution_count": null,
   "id": "0312ce1c-0f4c-4b9d-a1e6-80f104d4825a",
   "metadata": {},
   "outputs": [],
   "source": [
    "# Import modules\n",
    "import pyfoliage, glob\n",
    "import numpy as np"
   ]
  },
  {
   "cell_type": "code",
   "execution_count": 3,
   "id": "f2f3c810-e882-494e-85c2-0dbb40b028ed",
   "metadata": {},
   "outputs": [
    {
     "name": "stderr",
     "output_type": "stream",
     "text": [
      "Processing images: 100%|████████████████████████████████████████████████████████| 6622/6622 [22:08<00:00,  4.98image/s]\n"
     ]
    }
   ],
   "source": [
    "# Read images from directory containing wildcard '*'\n",
    "tubes = pyfoliage.canopy_cover(\"C:/Users/jperaza/Soil Water Lab Dropbox/KSU Soil Water Lab/Soil Water Lab/Projects data/RAIN/Plots/Images/*/*\", parallel=True)\n"
   ]
  },
  {
   "cell_type": "code",
   "execution_count": 4,
   "id": "1c93e9dc-b9d7-40c0-b279-75be6cd3c7cb",
   "metadata": {},
   "outputs": [],
   "source": []
  },
  {
   "cell_type": "code",
   "execution_count": 9,
   "id": "82643700-7dec-4c41-8999-6362d1bb492b",
   "metadata": {},
   "outputs": [
    {
     "data": {
      "text/html": [
       "<div>\n",
       "<style scoped>\n",
       "    .dataframe tbody tr th:only-of-type {\n",
       "        vertical-align: middle;\n",
       "    }\n",
       "\n",
       "    .dataframe tbody tr th {\n",
       "        vertical-align: top;\n",
       "    }\n",
       "\n",
       "    .dataframe thead th {\n",
       "        text-align: right;\n",
       "    }\n",
       "</style>\n",
       "<table border=\"1\" class=\"dataframe\">\n",
       "  <thead>\n",
       "    <tr style=\"text-align: right;\">\n",
       "      <th></th>\n",
       "      <th>image</th>\n",
       "      <th>plot_number</th>\n",
       "      <th>tube_number</th>\n",
       "    </tr>\n",
       "  </thead>\n",
       "  <tbody>\n",
       "    <tr>\n",
       "      <th>0</th>\n",
       "      <td>C:/Users/jperaza/Soil Water Lab Dropbox/KSU So...</td>\n",
       "      <td>101</td>\n",
       "      <td>1</td>\n",
       "    </tr>\n",
       "    <tr>\n",
       "      <th>1</th>\n",
       "      <td>C:/Users/jperaza/Soil Water Lab Dropbox/KSU So...</td>\n",
       "      <td>101</td>\n",
       "      <td>1</td>\n",
       "    </tr>\n",
       "    <tr>\n",
       "      <th>2</th>\n",
       "      <td>C:/Users/jperaza/Soil Water Lab Dropbox/KSU So...</td>\n",
       "      <td>101</td>\n",
       "      <td>1</td>\n",
       "    </tr>\n",
       "    <tr>\n",
       "      <th>3</th>\n",
       "      <td>C:/Users/jperaza/Soil Water Lab Dropbox/KSU So...</td>\n",
       "      <td>101</td>\n",
       "      <td>1</td>\n",
       "    </tr>\n",
       "    <tr>\n",
       "      <th>4</th>\n",
       "      <td>C:/Users/jperaza/Soil Water Lab Dropbox/KSU So...</td>\n",
       "      <td>101</td>\n",
       "      <td>1</td>\n",
       "    </tr>\n",
       "  </tbody>\n",
       "</table>\n",
       "</div>"
      ],
      "text/plain": [
       "                                               image plot_number tube_number\n",
       "0  C:/Users/jperaza/Soil Water Lab Dropbox/KSU So...         101           1\n",
       "1  C:/Users/jperaza/Soil Water Lab Dropbox/KSU So...         101           1\n",
       "2  C:/Users/jperaza/Soil Water Lab Dropbox/KSU So...         101           1\n",
       "3  C:/Users/jperaza/Soil Water Lab Dropbox/KSU So...         101           1\n",
       "4  C:/Users/jperaza/Soil Water Lab Dropbox/KSU So...         101           1"
      ]
     },
     "execution_count": 9,
     "metadata": {},
     "output_type": "execute_result"
    }
   ],
   "source": [
    "# Extract the plot and tube numbers from the file paths with error handling\n",
    "def extract_plot_and_tube_numbers(path):\n",
    "    try:\n",
    "        parts = path.split('\\\\')[-2].split('_')\n",
    "        return parts[0], parts[1]\n",
    "    except IndexError:\n",
    "        return 'NaN', 'NaN'\n",
    "\n",
    "tubes['plot_number'], tubes['tube_number'] = zip(*tubes['image'].apply(extract_plot_and_tube_numbers))\n",
    "\n",
    "# Display the first few rows of the dataframe\n",
    "tubes[['image', 'plot_number', 'tube_number']].head()"
   ]
  },
  {
   "cell_type": "code",
   "execution_count": 10,
   "id": "aa08d0bd-d4da-4f0f-a571-df972d0c2c51",
   "metadata": {},
   "outputs": [],
   "source": [
    "tubes.to_csv(\"canopy_cover.csv\")"
   ]
  },
  {
   "cell_type": "code",
   "execution_count": 11,
   "id": "103d0815-8f31-44f9-ae4d-cd99711f750a",
   "metadata": {},
   "outputs": [
    {
     "data": {
      "text/plain": [
       "'C:/Users/jperaza/Soil Water Lab Dropbox/KSU Soil Water Lab/Soil Water Lab/Projects data/RAIN/Plots/Images\\\\101_1\\\\GOPR0004.JPG'"
      ]
     },
     "execution_count": 11,
     "metadata": {},
     "output_type": "execute_result"
    }
   ],
   "source": [
    "pyfoliage.cc_image(tubes.iloc[0,0], plot=True)"
   ]
  },
  {
   "cell_type": "code",
   "execution_count": null,
   "id": "b00e73f3-06b0-4425-8a63-cc6b43645cef",
   "metadata": {},
   "outputs": [],
   "source": []
  }
 ],
 "metadata": {
  "kernelspec": {
   "display_name": "Python 3 (ipykernel)",
   "language": "python",
   "name": "python3"
  },
  "language_info": {
   "codemirror_mode": {
    "name": "ipython",
    "version": 3
   },
   "file_extension": ".py",
   "mimetype": "text/x-python",
   "name": "python",
   "nbconvert_exporter": "python",
   "pygments_lexer": "ipython3",
   "version": "3.10.12"
  }
 },
 "nbformat": 4,
 "nbformat_minor": 5
}
