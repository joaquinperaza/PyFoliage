{
 "cells": [
  {
   "cell_type": "code",
   "execution_count": 1,
   "id": "0312ce1c-0f4c-4b9d-a1e6-80f104d4825a",
   "metadata": {},
   "outputs": [],
   "source": [
    "# Import modules\n",
    "import pyfoliage, glob\n",
    "import numpy as np"
   ]
  },
  {
   "cell_type": "code",
   "execution_count": 2,
   "id": "f2f3c810-e882-494e-85c2-0dbb40b028ed",
   "metadata": {},
   "outputs": [
    {
     "name": "stderr",
     "output_type": "stream",
     "text": [
      "Processing images:  13%|███████▍                                                 | 866/6622 [07:39<51:42,  1.86image/s]"
     ]
    },
    {
     "name": "stdout",
     "output_type": "stream",
     "text": [
      "Error processing image: C:/Users/jperaza/Soil Water Lab Dropbox/KSU Soil Water Lab/Soil Water Lab/Projects data/RAIN/Plots/Images\\103_3\\IMG_5314.JPG\n"
     ]
    },
    {
     "name": "stderr",
     "output_type": "stream",
     "text": [
      "Processing images:  13%|███████▌                                                 | 879/6622 [07:45<50:52,  1.88image/s]"
     ]
    },
    {
     "name": "stdout",
     "output_type": "stream",
     "text": [
      "Error processing image: C:/Users/jperaza/Soil Water Lab Dropbox/KSU Soil Water Lab/Soil Water Lab/Projects data/RAIN/Plots/Images\\103_3\\IMG_5513.JPG\n"
     ]
    },
    {
     "name": "stderr",
     "output_type": "stream",
     "text": [
      "Processing images:  17%|█████████▋                                              | 1145/6622 [10:01<49:55,  1.83image/s]"
     ]
    },
    {
     "name": "stdout",
     "output_type": "stream",
     "text": [
      "Error processing image: C:/Users/jperaza/Soil Water Lab Dropbox/KSU Soil Water Lab/Soil Water Lab/Projects data/RAIN/Plots/Images\\109_4\\IMG_4345.JPG\n"
     ]
    },
    {
     "name": "stderr",
     "output_type": "stream",
     "text": [
      "Processing images:  23%|█████████████                                           | 1551/6622 [14:02<38:26,  2.20image/s]"
     ]
    },
    {
     "name": "stdout",
     "output_type": "stream",
     "text": [
      "Error processing image: C:/Users/jperaza/Soil Water Lab Dropbox/KSU Soil Water Lab/Soil Water Lab/Projects data/RAIN/Plots/Images\\116_5\\IMG_5520.JPG\n"
     ]
    },
    {
     "name": "stderr",
     "output_type": "stream",
     "text": [
      "Processing images:  38%|█████████████████████▍                                  | 2542/6622 [23:47<36:47,  1.85image/s]"
     ]
    },
    {
     "name": "stdout",
     "output_type": "stream",
     "text": [
      "Error processing image: C:/Users/jperaza/Soil Water Lab Dropbox/KSU Soil Water Lab/Soil Water Lab/Projects data/RAIN/Plots/Images\\211_8\\IMG_5532.JPG\n"
     ]
    },
    {
     "name": "stderr",
     "output_type": "stream",
     "text": [
      "Processing images:  43%|███████████████████████▉                                | 2825/6622 [26:36<31:38,  2.00image/s]"
     ]
    },
    {
     "name": "stdout",
     "output_type": "stream",
     "text": [
      "Error processing image: C:/Users/jperaza/Soil Water Lab Dropbox/KSU Soil Water Lab/Soil Water Lab/Projects data/RAIN/Plots/Images\\214_7\\IMG_4682.JPG\n"
     ]
    },
    {
     "name": "stderr",
     "output_type": "stream",
     "text": [
      "Processing images:  59%|████████████████████████████████▉                       | 3898/6622 [37:14<27:27,  1.65image/s]"
     ]
    },
    {
     "name": "stdout",
     "output_type": "stream",
     "text": [
      "Error processing image: C:/Users/jperaza/Soil Water Lab Dropbox/KSU Soil Water Lab/Soil Water Lab/Projects data/RAIN/Plots/Images\\306_12\\IMG_6008.JPG\n"
     ]
    },
    {
     "name": "stderr",
     "output_type": "stream",
     "text": [
      "Processing images:  88%|███████████████████████████████████████████████▌      | 5828/6622 [1:13:41<05:46,  2.29image/s]"
     ]
    },
    {
     "name": "stdout",
     "output_type": "stream",
     "text": [
      "Error processing image: C:/Users/jperaza/Soil Water Lab Dropbox/KSU Soil Water Lab/Soil Water Lab/Projects data/RAIN/Plots/Images\\404_18\\IMG_5375.JPG\n"
     ]
    },
    {
     "name": "stderr",
     "output_type": "stream",
     "text": [
      "Processing images: 100%|██████████████████████████████████████████████████████| 6622/6622 [1:20:50<00:00,  1.37image/s]\n"
     ]
    }
   ],
   "source": [
    "# Read images from directory containing wildcard '*'\n",
    "tubes = pyfoliage.canopy_cover(\"C:/Users/jperaza/Soil Water Lab Dropbox/KSU Soil Water Lab/Soil Water Lab/Projects data/RAIN/Plots/Images/*/*\")\n"
   ]
  },
  {
   "cell_type": "code",
   "execution_count": null,
   "id": "6d5f1356-9dd2-4d4c-a34c-433188697082",
   "metadata": {},
   "outputs": [],
   "source": []
  },
  {
   "cell_type": "code",
   "execution_count": 3,
   "id": "1c93e9dc-b9d7-40c0-b279-75be6cd3c7cb",
   "metadata": {},
   "outputs": [],
   "source": [
    "tubes.to_csv(\"1.csv\")"
   ]
  },
  {
   "cell_type": "code",
   "execution_count": null,
   "id": "1dde00d9-85d6-4bcb-9df0-cd046bbf6579",
   "metadata": {},
   "outputs": [],
   "source": []
  }
 ],
 "metadata": {
  "kernelspec": {
   "display_name": "Python 3 (ipykernel)",
   "language": "python",
   "name": "python3"
  },
  "language_info": {
   "codemirror_mode": {
    "name": "ipython",
    "version": 3
   },
   "file_extension": ".py",
   "mimetype": "text/x-python",
   "name": "python",
   "nbconvert_exporter": "python",
   "pygments_lexer": "ipython3",
   "version": "3.10.12"
  }
 },
 "nbformat": 4,
 "nbformat_minor": 5
}
